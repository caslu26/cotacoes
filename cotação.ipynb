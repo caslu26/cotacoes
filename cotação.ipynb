{
 "cells": [
  {
   "cell_type": "code",
   "execution_count": 14,
   "metadata": {},
   "outputs": [
    {
     "name": "stdout",
     "output_type": "stream",
     "text": [
      "A cotação do Dolar atual é de: 5.0555\n",
      "A cotação do Euro atual é de: 5.3578\n",
      "A cotação do Bitcoin atual é de: 139051\n"
     ]
    }
   ],
   "source": [
    "import requests\n",
    "import json\n",
    "\n",
    "\n",
    "cotacoes = requests.get('https://economia.awesomeapi.com.br/last/USD-BRL,EUR-BRL,BTC-BRL')\n",
    "cotacoes = cotacoes.json()\n",
    "cotacoes_dolar = cotacoes['USDBRL'][\"bid\"]\n",
    "cotacoes_euro = cotacoes['EURBRL']['bid']\n",
    "cotacoes_bitcoin = cotacoes['BTCBRL']['bid']\n",
    "\n",
    "\n",
    "print(\"A cotação do Dolar atual é de:\",cotacoes_dolar)\n",
    "print(\"A cotação do Euro atual é de:\",cotacoes_euro)\n",
    "print(\"A cotação do Bitcoin atual é de:\",cotacoes_bitcoin)\n"
   ]
  }
 ],
 "metadata": {
  "kernelspec": {
   "display_name": "base",
   "language": "python",
   "name": "python3"
  },
  "language_info": {
   "codemirror_mode": {
    "name": "ipython",
    "version": 3
   },
   "file_extension": ".py",
   "mimetype": "text/x-python",
   "name": "python",
   "nbconvert_exporter": "python",
   "pygments_lexer": "ipython3",
   "version": "3.11.3"
  },
  "orig_nbformat": 4
 },
 "nbformat": 4,
 "nbformat_minor": 2
}
